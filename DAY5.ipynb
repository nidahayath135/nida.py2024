{
  "nbformat": 4,
  "nbformat_minor": 0,
  "metadata": {
    "colab": {
      "provenance": []
    },
    "kernelspec": {
      "name": "python3",
      "display_name": "Python 3"
    },
    "language_info": {
      "name": "python"
    }
  },
  "cells": [
    {
      "cell_type": "markdown",
      "source": [
        "FILE HANDLING"
      ],
      "metadata": {
        "id": "j4OUiZ2IjvxF"
      }
    },
    {
      "cell_type": "code",
      "source": [
        "file = open(\"/nida.txt\",\"mode\")"
      ],
      "metadata": {
        "id": "MqoQrItLoSQ_"
      },
      "execution_count": null,
      "outputs": []
    },
    {
      "cell_type": "markdown",
      "source": [
        "READING A FILE"
      ],
      "metadata": {
        "id": "8aFjcyMsutet"
      }
    },
    {
      "cell_type": "code",
      "source": [
        "file = open(\"/nida.txt\",\"r\")\n",
        "content = file.read()\n",
        "print(content)\n",
        "file.close()\n"
      ],
      "metadata": {
        "colab": {
          "base_uri": "https://localhost:8080/"
        },
        "id": "Km94Ok7Ouxrv",
        "outputId": "4021c165-d052-4b0d-f773-8a6b5cd50633"
      },
      "execution_count": 2,
      "outputs": [
        {
          "output_type": "stream",
          "name": "stdout",
          "text": [
            "NIDAA\n"
          ]
        }
      ]
    },
    {
      "cell_type": "markdown",
      "source": [
        "WRITING TO A FILE"
      ],
      "metadata": {
        "id": "d0Wj66kIvg9t"
      }
    },
    {
      "cell_type": "code",
      "source": [
        "file = open(\"/nida.txt\",\"w\")\n",
        "file.write(\"hello,world!\\n\")\n",
        "file.close()\n"
      ],
      "metadata": {
        "id": "feyp7BHWvllV"
      },
      "execution_count": 4,
      "outputs": []
    },
    {
      "cell_type": "markdown",
      "source": [
        "APPENDING TO A FILE"
      ],
      "metadata": {
        "id": "j5GrRSfkwtEM"
      }
    },
    {
      "cell_type": "code",
      "source": [
        "file = open(\"/nida.txt\",\"a\")\n",
        "file.write(\"this is an appended line.\\n\")\n",
        "file.close()"
      ],
      "metadata": {
        "id": "FWnU34a3wxhw"
      },
      "execution_count": 10,
      "outputs": []
    },
    {
      "cell_type": "markdown",
      "source": [
        "USING 'WITH' STATEMENT"
      ],
      "metadata": {
        "id": "O_D_v-RMxaF7"
      }
    },
    {
      "cell_type": "code",
      "source": [
        "with open(\"/nida.txt\",\"r\") as file:\n",
        "    content = file.read()\n",
        "    print(content)"
      ],
      "metadata": {
        "colab": {
          "base_uri": "https://localhost:8080/"
        },
        "id": "CQS9b4wGxsgO",
        "outputId": "712352cf-a290-4df8-8dfe-f504d02ee460"
      },
      "execution_count": 12,
      "outputs": [
        {
          "output_type": "stream",
          "name": "stdout",
          "text": [
            "hello,world!\n",
            "this is an appendedline.\n",
            "\n"
          ]
        }
      ]
    },
    {
      "cell_type": "markdown",
      "source": [
        "FILE HANDLING MODES"
      ],
      "metadata": {
        "id": "Q42m6axVx9hk"
      }
    },
    {
      "cell_type": "code",
      "source": [
        "with open(\"/duck2.jpg\",\"rb\") as file:\n",
        "  data = file.read()"
      ],
      "metadata": {
        "id": "9O2qFJG2yClH"
      },
      "execution_count": 13,
      "outputs": []
    },
    {
      "cell_type": "markdown",
      "source": [
        "ERROR HANDLING"
      ],
      "metadata": {
        "id": "T8QDsuHQ8HZR"
      }
    },
    {
      "cell_type": "code",
      "source": [
        "\n",
        "try:\n",
        "  num = int(input(\"enter a number:\"))\n",
        "  print(10/num)\n",
        "except ZeroDivisionError:\n",
        "    print(\"you cannot divide by zero.\")\n",
        "except ValueError:\n",
        "      print(\"invalid input!. please enter a number.\")\n",
        "      print(\"invalid input!. please enter a number.\")"
      ],
      "metadata": {
        "colab": {
          "base_uri": "https://localhost:8080/"
        },
        "id": "VkABpL3u8QOI",
        "outputId": "6d3da4ad-fc26-402f-f65e-876942ade386"
      },
      "execution_count": 18,
      "outputs": [
        {
          "output_type": "stream",
          "name": "stdout",
          "text": [
            "enter a number:20\n",
            "0.5\n"
          ]
        }
      ]
    },
    {
      "cell_type": "markdown",
      "source": [
        "FINALLY BLOCK"
      ],
      "metadata": {
        "id": "vPtDnxFL_qol"
      }
    },
    {
      "cell_type": "code",
      "source": [
        "\n",
        "try:\n",
        "  num = int(input(\"enter a number:\"))\n",
        "  print(10/num)\n",
        "except ZeroDivisionError:\n",
        "    print(\"you cannot divide by zero.\")\n",
        "except ValueError:\n",
        "      print(\"invalid input!. please enter a number.\")\n",
        "      print(\"invalid input!. please enter a number.\")"
      ],
      "metadata": {
        "colab": {
          "base_uri": "https://localhost:8080/"
        },
        "id": "bOfF1ix__vX3",
        "outputId": "6c26d3ba-2eb0-4c80-b3ab-a3f8dd63c8bb"
      },
      "execution_count": 22,
      "outputs": [
        {
          "output_type": "stream",
          "name": "stdout",
          "text": [
            "execution completed.\n"
          ]
        }
      ]
    },
    {
      "cell_type": "markdown",
      "source": [
        "RAISING EXCEPTIONS"
      ],
      "metadata": {
        "id": "24ElhBvxAv2s"
      }
    },
    {
      "cell_type": "code",
      "source": [
        "\n",
        "\n",
        "def check_age(age):\n",
        "    if age < 18:\n",
        "        raise ValueError(\"age must be 18 or older.\")\n",
        "    return True\n",
        "\n",
        "try:\n",
        "    check_age(16)\n",
        "except ValueError as e:\n",
        "    print(e)"
      ],
      "metadata": {
        "colab": {
          "base_uri": "https://localhost:8080/"
        },
        "id": "whS5B3yiBb5V",
        "outputId": "1380d2cd-e164-46a7-e2f8-be574c166ab8"
      },
      "execution_count": 29,
      "outputs": [
        {
          "output_type": "stream",
          "name": "stdout",
          "text": [
            "age must be 18 or older.\n"
          ]
        }
      ]
    },
    {
      "cell_type": "markdown",
      "source": [
        "READING AND WRITING TO A FILE"
      ],
      "metadata": {
        "id": "SGq0UeW5B8Pl"
      }
    },
    {
      "cell_type": "code",
      "source": [
        "with open(\"/content/nida.txt\",\"w\") as file:\n",
        "    file.write(\"python is awesome!\\n\")\n",
        "\n",
        "with open(\"/content/nida.txt\",\"r\") as file:\n",
        "    print(file.read())"
      ],
      "metadata": {
        "colab": {
          "base_uri": "https://localhost:8080/"
        },
        "id": "UFpWkcSFDDaU",
        "outputId": "6cb3adb6-29d9-4736-9752-2b4e64075c84"
      },
      "execution_count": 33,
      "outputs": [
        {
          "output_type": "stream",
          "name": "stdout",
          "text": [
            "python is awesome!\n",
            "\n"
          ]
        }
      ]
    },
    {
      "cell_type": "markdown",
      "source": [
        "APPENDING DATA TO A FILE"
      ],
      "metadata": {
        "id": "8Wuy2J97DI5T"
      }
    },
    {
      "cell_type": "code",
      "source": [
        "with open(\"/content/nida.txt\",\"a\") as file:\n",
        "    file.write(\"lets learn file handling.\\n\")\n",
        "\n",
        "    with open(\"/content/nida.txt\",\"r\") as file:\n",
        "        print(file.read())"
      ],
      "metadata": {
        "colab": {
          "base_uri": "https://localhost:8080/"
        },
        "id": "gVQ-AdheDOXL",
        "outputId": "bd024f9b-719c-4962-d1fa-913495234892"
      },
      "execution_count": 34,
      "outputs": [
        {
          "output_type": "stream",
          "name": "stdout",
          "text": [
            "python is awesome!\n",
            "\n"
          ]
        }
      ]
    },
    {
      "cell_type": "markdown",
      "source": [
        "HANDLING DIVISION BY ZERO ERROR"
      ],
      "metadata": {
        "id": "lLRNndAwDr_x"
      }
    },
    {
      "cell_type": "code",
      "source": [
        "try:\n",
        "    num1 = int(input(\"enter numerator:\"))\n",
        "    num2 = int(input(\"enter denominator:\"))\n",
        "    result = num1 / num2\n",
        "    print(\"result:\", result)\n",
        "except ZeroDivisionError:\n",
        "    print(\"you cannot divide by zero.\")\n",
        "except ValueError:\n",
        "    print(\"invalid input!. please enter numeric values.\")"
      ],
      "metadata": {
        "colab": {
          "base_uri": "https://localhost:8080/"
        },
        "id": "qbo1pF0uEsU8",
        "outputId": "b5e2a297-e7ac-432f-c7d7-f58de0718c32"
      },
      "execution_count": 37,
      "outputs": [
        {
          "output_type": "stream",
          "name": "stdout",
          "text": [
            "enter numerator:20\n",
            "enter denominator:10\n",
            "result: 2.0\n"
          ]
        }
      ]
    },
    {
      "cell_type": "markdown",
      "source": [
        "CREATING A CUSTOM EXCEPTION"
      ],
      "metadata": {
        "id": "sQZwJwwvE1od"
      }
    },
    {
      "cell_type": "code",
      "source": [
        "class negativenumbererror(Exception):\n",
        "  pass\n",
        "\n",
        "def check_positive(number):\n",
        "    if number < 0:\n",
        "        raise negativenumbererror(\"negative number entered.\")\n",
        "\n",
        "try:\n",
        "    num = int(input(\"enter a number:\"))\n",
        "    check_positive(num)\n",
        "    print(\"number is positive:\", num)\n",
        "except negativenumbererror as e:\n",
        "    print(e)"
      ],
      "metadata": {
        "colab": {
          "base_uri": "https://localhost:8080/"
        },
        "id": "dYxWZpv4SB2V",
        "outputId": "d8895a8e-2da6-40c9-b587-d3c5315523a4"
      },
      "execution_count": 40,
      "outputs": [
        {
          "output_type": "stream",
          "name": "stdout",
          "text": [
            "enter a number:22\n",
            "number is positive: 22\n"
          ]
        }
      ]
    },
    {
      "cell_type": "code",
      "source": [
        "\n",
        "\n",
        "line_count = 0\n",
        "\n",
        "with open('/content/nida.txt', 'r') as file:\n",
        "    for line in file:\n",
        "        line_count += 1\n",
        "\n",
        "print(f\"The file has {line_count} lines.\")"
      ],
      "metadata": {
        "colab": {
          "base_uri": "https://localhost:8080/"
        },
        "id": "vQeP_W1uXO21",
        "outputId": "4c9852b8-bcf6-4f95-c575-5c8776f18680"
      },
      "execution_count": 44,
      "outputs": [
        {
          "output_type": "stream",
          "name": "stdout",
          "text": [
            "The file has 1 lines.\n"
          ]
        }
      ]
    },
    {
      "cell_type": "code",
      "source": [
        "import shutil\n",
        "\n",
        "shutil.copyfile('/content/nida.txt', 'copy.txt')\n",
        "\n",
        "print(\"Contents of /content/nida.txt have been copied to copy.txt.\")\n"
      ],
      "metadata": {
        "colab": {
          "base_uri": "https://localhost:8080/"
        },
        "id": "9UYWJsEEXi4b",
        "outputId": "e919313a-4887-4c73-b861-76391758ed27"
      },
      "execution_count": 45,
      "outputs": [
        {
          "output_type": "stream",
          "name": "stdout",
          "text": [
            "Contents of /content/nida.txt have been copied to copy.txt.\n"
          ]
        }
      ]
    },
    {
      "cell_type": "code",
      "source": [
        "\n",
        "with open('/content/nida.txt', 'r') as file:\n",
        "\n",
        "    content = file.read()\n",
        "\n",
        "word_count = len(content.split())\n",
        "\n",
        "print(f\"The file contains {word_count} words.\")\n"
      ],
      "metadata": {
        "colab": {
          "base_uri": "https://localhost:8080/"
        },
        "id": "wFeScrpNX8Sv",
        "outputId": "a9cfcb21-8c69-43d6-f480-a2ffde638ba3"
      },
      "execution_count": 46,
      "outputs": [
        {
          "output_type": "stream",
          "name": "stdout",
          "text": [
            "The file contains 1 words.\n"
          ]
        }
      ]
    },
    {
      "cell_type": "code",
      "source": [
        "import os\n",
        "\n",
        "if os.path.isfile('/content/nida.txt'):\n",
        "    print(\"The file /content/nida.txt exists and is a file.\")\n",
        "else:\n",
        "    print(\"The file /content/nida.txt does not exist.\")\n"
      ],
      "metadata": {
        "colab": {
          "base_uri": "https://localhost:8080/"
        },
        "id": "5_a1v0p8YkWV",
        "outputId": "f9ce7c3e-a409-439f-b0a1-29deafd9ac2d"
      },
      "execution_count": 47,
      "outputs": [
        {
          "output_type": "stream",
          "name": "stdout",
          "text": [
            "The file /content/nida.txt exists and is a file.\n"
          ]
        }
      ]
    },
    {
      "cell_type": "markdown",
      "source": [
        "RANDOM NUMBER"
      ],
      "metadata": {
        "id": "EE1JEeY2ZBLk"
      }
    },
    {
      "cell_type": "code",
      "source": [
        "import random\n",
        "random_number = random.randint(1,6)\n",
        "print(\"random_number is:\",random_number)"
      ],
      "metadata": {
        "colab": {
          "base_uri": "https://localhost:8080/"
        },
        "id": "0bgcJf1pZE22",
        "outputId": "e738f5ff-27da-482f-ebab-e84690c9979c"
      },
      "execution_count": 49,
      "outputs": [
        {
          "output_type": "stream",
          "name": "stdout",
          "text": [
            "random_number is: 5\n"
          ]
        }
      ]
    }
  ]
}