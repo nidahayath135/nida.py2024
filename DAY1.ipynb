{
  "nbformat": 4,
  "nbformat_minor": 0,
  "metadata": {
    "colab": {
      "provenance": []
    },
    "kernelspec": {
      "name": "python3",
      "display_name": "Python 3"
    },
    "language_info": {
      "name": "python"
    }
  },
  "cells": [
    {
      "cell_type": "code",
      "execution_count": 1,
      "metadata": {
        "colab": {
          "base_uri": "https://localhost:8080/"
        },
        "id": "LYOnSTdJUsOD",
        "outputId": "77360644-41ee-4a03-ac4d-825fe2527d3b"
      },
      "outputs": [
        {
          "output_type": "stream",
          "name": "stdout",
          "text": [
            "hello,world\n",
            "NIDA HAYATH\n",
            "power system system\n"
          ]
        }
      ],
      "source": [
        "print(\"hello,world\")\n",
        "print(\"NIDA HAYATH\")\n",
        "print(\"power system system\")\n"
      ]
    },
    {
      "cell_type": "code",
      "source": [
        "#print(\"hello,world\")\n",
        "#print(\"NIDA HAYATH\")\n",
        "#print(\"power system system\")"
      ],
      "metadata": {
        "id": "48z1sOvVdIGk"
      },
      "execution_count": 3,
      "outputs": []
    },
    {
      "cell_type": "code",
      "source": [
        "a=10\n",
        "print(a)\n",
        "b=3.14\n",
        "name='nida'\n",
        "print(name)\n",
        "print(a,b,name + \"all r sad\")\n"
      ],
      "metadata": {
        "colab": {
          "base_uri": "https://localhost:8080/"
        },
        "id": "OTcV3vSO4Yjp",
        "outputId": "57e8fe0c-57b0-412a-dfaf-5b1b11efdb27"
      },
      "execution_count": 14,
      "outputs": [
        {
          "output_type": "stream",
          "name": "stdout",
          "text": [
            "10\n",
            "nida\n",
            "10 3.14 nidaall r sad\n"
          ]
        }
      ]
    },
    {
      "cell_type": "code",
      "source": [
        "\n",
        "name=input(\"enter student name:\")\n",
        "a=int(input(\"enter a number:\"))\n",
        "print(a)\n",
        "print(name)\n"
      ],
      "metadata": {
        "colab": {
          "base_uri": "https://localhost:8080/"
        },
        "id": "D0Bj-r176hnp",
        "outputId": "e322489b-b1c2-433c-a2fb-e0919b752478"
      },
      "execution_count": 18,
      "outputs": [
        {
          "output_type": "stream",
          "name": "stdout",
          "text": [
            "enter student name:nida\n",
            "enter a number:22\n",
            "22\n",
            "nida\n"
          ]
        }
      ]
    },
    {
      "cell_type": "code",
      "source": [
        "a=int(input(\"enter first number:\"))\n",
        "b=int(input(\"enter second number:\"))\n",
        "c=a+b\n",
        "print(c)"
      ],
      "metadata": {
        "colab": {
          "base_uri": "https://localhost:8080/"
        },
        "id": "E7xn4oTT9S8o",
        "outputId": "e277ee9d-c029-413a-fc6d-d07e55f5628a"
      },
      "execution_count": 21,
      "outputs": [
        {
          "output_type": "stream",
          "name": "stdout",
          "text": [
            "enter first number:1\n",
            "enter second number:2\n",
            "3\n"
          ]
        }
      ]
    },
    {
      "cell_type": "code",
      "source": [],
      "metadata": {
        "id": "Gmxq1tlTADng"
      },
      "execution_count": null,
      "outputs": []
    },
    {
      "cell_type": "code",
      "source": [
        "(input(\"enter first number:\"))\n",
        "b=int(input(\"enter second number:\"))\n",
        "c=a*b\n",
        "print(c)a=int"
      ],
      "metadata": {
        "colab": {
          "base_uri": "https://localhost:8080/"
        },
        "id": "CT3QpBQh9nx3",
        "outputId": "8f3a468d-d143-4425-eae8-19513e9fe059"
      },
      "execution_count": 22,
      "outputs": [
        {
          "output_type": "stream",
          "name": "stdout",
          "text": [
            "enter first number:7\n",
            "enter second number:6\n",
            "42\n"
          ]
        }
      ]
    },
    {
      "cell_type": "code",
      "source": [
        "radius=int(input(\"enter radius:\"))\n",
        "pi=3.14\n",
        "area=pi*radius*radius\n",
        "print(\"area of circle is :\",area)"
      ],
      "metadata": {
        "colab": {
          "base_uri": "https://localhost:8080/"
        },
        "id": "cMA6_Gvx-axQ",
        "outputId": "77aea067-7541-462e-a56c-d201a66b1d31"
      },
      "execution_count": 26,
      "outputs": [
        {
          "output_type": "stream",
          "name": "stdout",
          "text": [
            "enter radius:30\n",
            "area of circle is : 2826.0\n"
          ]
        }
      ]
    },
    {
      "cell_type": "code",
      "source": [
        "a=int(input(\"enter first number:\"))\n",
        "b=int(input(\"enter second number:\"))\n",
        "print(a+b)\n",
        "print(a*b)\n",
        "print(a-b)\n",
        "print(a/b)\n",
        "print(a%b)\n",
        "print(a**b)"
      ],
      "metadata": {
        "colab": {
          "base_uri": "https://localhost:8080/"
        },
        "id": "A7OAs1YjBYk5",
        "outputId": "7ff365fb-6b90-451c-cfe6-49c5d5571a03"
      },
      "execution_count": 31,
      "outputs": [
        {
          "output_type": "stream",
          "name": "stdout",
          "text": [
            "enter first number:40\n",
            "enter second number:32\n",
            "72\n",
            "1280\n",
            "8\n",
            "1.25\n",
            "8\n",
            "1844674407370955161600000000000000000000000000000000\n"
          ]
        }
      ]
    },
    {
      "cell_type": "code",
      "source": [
        "celcius=float(input(\"enter temperature in celcius:\"))\n",
        "fahrenheit=(celcius*9/5)+32\n",
        "print(\"temperature in fahrenheit:\",fahrenheit)"
      ],
      "metadata": {
        "colab": {
          "base_uri": "https://localhost:8080/"
        },
        "id": "MtR2_tmTBkEf",
        "outputId": "ea100e63-aaf5-4eb6-e079-2a6a54cf2f82"
      },
      "execution_count": 32,
      "outputs": [
        {
          "output_type": "stream",
          "name": "stdout",
          "text": [
            "enter temperature in celcius:32\n",
            "temperature in fahrenheit: 89.6\n"
          ]
        }
      ]
    },
    {
      "cell_type": "code",
      "source": [
        "principle=float(input(\"enter principle amount:\"))\n",
        "rate=float(input(\"enter rate:\"))\n",
        "time=float(input(\"enter time:\"))\n",
        "si=(principle*rate*time)/100\n",
        "print(\"simple interest:\",si)\n"
      ],
      "metadata": {
        "colab": {
          "base_uri": "https://localhost:8080/"
        },
        "id": "Qk1axSH_E4zI",
        "outputId": "3de2710d-c9aa-44b8-a76f-c8f9c2627247"
      },
      "execution_count": 33,
      "outputs": [
        {
          "output_type": "stream",
          "name": "stdout",
          "text": [
            "enter principle amount:70\n",
            "enter rate:50\n",
            "enter time:2\n",
            "simple interest: 70.0\n"
          ]
        }
      ]
    },
    {
      "cell_type": "code",
      "source": [
        " length=float(input(\"enter length:\"))\n",
        " width=float(input(\"enter width:\"))\n",
        " area=length*width\n",
        " print(\"area of rectangle:\",area)"
      ],
      "metadata": {
        "colab": {
          "base_uri": "https://localhost:8080/"
        },
        "id": "g6nS54k_INDH",
        "outputId": "3b4f1853-a3c8-4524-9e43-d06375d820f3"
      },
      "execution_count": 37,
      "outputs": [
        {
          "output_type": "stream",
          "name": "stdout",
          "text": [
            "enter length:20\n",
            "enter width:3\n",
            "area of rectangle: 60.0\n"
          ]
        }
      ]
    },
    {
      "cell_type": "code",
      "source": [
        "mintues=int(input(\"enter time in mintues:\"))\n",
        "hours=mintues//60\n",
        "print(\"hours:\",hours)"
      ],
      "metadata": {
        "colab": {
          "base_uri": "https://localhost:8080/"
        },
        "id": "tDgAY_NUJNRH",
        "outputId": "03164b80-a146-435b-d847-2c5b2b3d3b68"
      },
      "execution_count": 39,
      "outputs": [
        {
          "output_type": "stream",
          "name": "stdout",
          "text": [
            "enter time in mintues:240\n",
            "hours: 4\n"
          ]
        }
      ]
    },
    {
      "cell_type": "code",
      "source": [],
      "metadata": {
        "id": "Xtfm-7syKDDQ"
      },
      "execution_count": null,
      "outputs": []
    }
  ]
}